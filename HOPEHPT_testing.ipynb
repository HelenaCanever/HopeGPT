{
  "nbformat": 4,
  "nbformat_minor": 0,
  "metadata": {
    "colab": {
      "provenance": []
    },
    "kernelspec": {
      "name": "python3",
      "display_name": "Python 3"
    },
    "language_info": {
      "name": "python"
    }
  },
  "cells": [
    {
      "cell_type": "code",
      "source": [
        "%%capture\n",
        "!pip install openai\n",
        "!pip install tiktoken\n",
        "!pip install pypdf\n",
        "!pip install chromadb\n",
        "!pip install langchain\n",
        "!pip install unstructured\n",
        "!pip install pdf2pptx"
      ],
      "metadata": {
        "id": "WrrEgPYNGhrO"
      },
      "execution_count": 41,
      "outputs": []
    },
    {
      "cell_type": "code",
      "execution_count": 53,
      "metadata": {
        "id": "ZgkhR7QDGbCr"
      },
      "outputs": [],
      "source": [
        "import tiktoken"
      ]
    },
    {
      "cell_type": "code",
      "source": [
        "model = 'text-davinci-003'\n",
        "tokenizer = tiktoken.encoding_for_model(model)"
      ],
      "metadata": {
        "id": "iqLFNMMwGgOo"
      },
      "execution_count": 54,
      "outputs": []
    },
    {
      "cell_type": "code",
      "source": [
        "# load powerpoint\n",
        "from langchain.document_loaders import UnstructuredPowerPointLoader\n",
        "\n",
        "loader = UnstructuredPowerPointLoader(\"/content/AO.pptx\")\n",
        "data = loader.load()\n"
      ],
      "metadata": {
        "id": "P6G7LppRu51Y"
      },
      "execution_count": 57,
      "outputs": []
    },
    {
      "cell_type": "code",
      "source": [
        "ppt_extract = data[0].page_content\n",
        "print(ppt_extract)"
      ],
      "metadata": {
        "id": "drMD1b8PxYp3"
      },
      "execution_count": null,
      "outputs": []
    },
    {
      "cell_type": "code",
      "source": [
        "tokens = tokenizer.encode(data[0].page_content)\n",
        "n_tokens= len(tokens)\n",
        "total_cost = (n_tokens * 0.02 / 1000)\n",
        "\n",
        "print(\"powerpoint loader\")\n",
        "print(\"Total cost: {}\".format(total_cost))\n"
      ],
      "metadata": {
        "colab": {
          "base_uri": "https://localhost:8080/"
        },
        "id": "vneKj84oyLo3",
        "outputId": "911dbfc2-745e-4790-97c5-488acf954bd7"
      },
      "execution_count": 58,
      "outputs": [
        {
          "output_type": "stream",
          "name": "stdout",
          "text": [
            "powerpoint loader\n",
            "Total cost: 0.1648\n"
          ]
        }
      ]
    },
    {
      "cell_type": "code",
      "source": [
        "# load pdf\n",
        "from langchain.document_loaders import PyPDFLoader\n",
        "\n",
        "loader = PyPDFLoader(\"/content/AO.pdf\")\n",
        "pages = loader.load_and_split()"
      ],
      "metadata": {
        "id": "k4x8sT9ry_-6"
      },
      "execution_count": 67,
      "outputs": []
    },
    {
      "cell_type": "code",
      "source": [
        "n_tokens = []\n",
        "for page in pages:\n",
        "  tokens = tokenizer.encode(page.page_content)\n",
        "  n_tokens.append(len(tokens))"
      ],
      "metadata": {
        "id": "cgfihlOeGw-o"
      },
      "execution_count": 68,
      "outputs": []
    },
    {
      "cell_type": "code",
      "source": [
        "total_tokens = 0\n",
        "total_cost = 0\n",
        "\n",
        "for n in n_tokens:\n",
        "  total_tokens += n\n",
        "  total_cost += (n * 0.02 / 1000)\n",
        "\n",
        "print(\"pdf loader\")\n",
        "print(\"Total tokens: {}\".format(total_tokens)) \n",
        "print(\"Total cost: {}\".format(total_cost)) "
      ],
      "metadata": {
        "colab": {
          "base_uri": "https://localhost:8080/"
        },
        "id": "py8xt-4yG4nV",
        "outputId": "26406ca9-7450-4c24-86ce-619eb01a379a"
      },
      "execution_count": 70,
      "outputs": [
        {
          "output_type": "stream",
          "name": "stdout",
          "text": [
            "pdf loader\n",
            "Total tokens: 21507\n",
            "Total cost: 0.43014000000000013\n"
          ]
        }
      ]
    },
    {
      "cell_type": "code",
      "source": [
        "from langchain.text_splitter import CharacterTextSplitter"
      ],
      "metadata": {
        "id": "4qNvoYqaJtKj"
      },
      "execution_count": 50,
      "outputs": []
    },
    {
      "cell_type": "code",
      "source": [
        "text_splitter = CharacterTextSplitter(chunk_size=1000, chunk_overlap=0)\n",
        "texts = text_splitter.split_documents(pages)"
      ],
      "metadata": {
        "id": "e75kyLrSKUwF"
      },
      "execution_count": 72,
      "outputs": []
    },
    {
      "cell_type": "code",
      "source": [
        "texts[23].page_content"
      ],
      "metadata": {
        "colab": {
          "base_uri": "https://localhost:8080/",
          "height": 52
        },
        "id": "Dlu2O6txKq41",
        "outputId": "f2cd3f5f-b666-4b6c-84d9-1abcdf8cdc88"
      },
      "execution_count": 77,
      "outputs": [
        {
          "output_type": "execute_result",
          "data": {
            "text/plain": [
              "'23 Confidentiel\\nExemples de livrables pour le lot 0LOT 0 LOT 1 LOT 2 LOT 3\\nExemples de livrables Office 365\\nFormation Teams pour les équipes Pégase\\nAnalyse d’impacts du projet Parcours Ramsay'"
            ],
            "application/vnd.google.colaboratory.intrinsic+json": {
              "type": "string"
            }
          },
          "metadata": {},
          "execution_count": 77
        }
      ]
    },
    {
      "cell_type": "code",
      "source": [
        "from langchain.vectorstores import Chroma"
      ],
      "metadata": {
        "id": "NsQcVLeDKruT"
      },
      "execution_count": 78,
      "outputs": []
    },
    {
      "cell_type": "code",
      "source": [
        "import os\n",
        "import getpass\n",
        "os.environ[\"OPENAI_API_TYPE\"] = \"azure\"\n",
        "os.environ[\"OPENAI_API_VERSION\"] = \"2022-12-01\"\n",
        "os.environ[\"OPENAI_API_BASE\"] = \"https://ai-rd-dev.openai.azure.com/\"\n",
        "os.environ[\"OPENAI_API_KEY\"] = getpass.getpass()\n"
      ],
      "metadata": {
        "id": "V3x4wvSuLgOR"
      },
      "execution_count": 83,
      "outputs": []
    },
    {
      "cell_type": "code",
      "source": [
        "from langchain.llms import AzureOpenAI\n",
        "from langchain.embeddings import OpenAIEmbeddings\n",
        "llm = AzureOpenAI(\n",
        "    deployment_name=\"davinci003\", temperature = 0 \n",
        ")\n",
        "embeddings = OpenAIEmbeddings(chunk_size=1)"
      ],
      "metadata": {
        "id": "HejvIqAVL5ib"
      },
      "execution_count": 84,
      "outputs": []
    },
    {
      "cell_type": "code",
      "source": [
        "db = Chroma.from_documents(texts, embeddings)"
      ],
      "metadata": {
        "id": "WPg4Uc6FLXYt"
      },
      "execution_count": 85,
      "outputs": []
    },
    {
      "cell_type": "code",
      "source": [
        "retriever = db.as_retriever(search_type='similarity')"
      ],
      "metadata": {
        "id": "is2ePYmINLlk"
      },
      "execution_count": 86,
      "outputs": []
    },
    {
      "cell_type": "code",
      "source": [
        "from langchain.chains import RetrievalQA\n",
        "\n",
        "qa = RetrievalQA.from_chain_type(llm=llm, chain_type='map_reduce', retriever=retriever)"
      ],
      "metadata": {
        "id": "blJFfZENNfi3"
      },
      "execution_count": 87,
      "outputs": []
    },
    {
      "cell_type": "code",
      "source": [
        "query = \"Combien de profils sont proposées dans la proposition financière ?\""
      ],
      "metadata": {
        "id": "8rkRGu4HN3l3"
      },
      "execution_count": 112,
      "outputs": []
    },
    {
      "cell_type": "code",
      "source": [
        "result = qa({\"query\":query})"
      ],
      "metadata": {
        "id": "bh-FOc9xN7-o"
      },
      "execution_count": 113,
      "outputs": []
    },
    {
      "cell_type": "code",
      "source": [
        "result"
      ],
      "metadata": {
        "colab": {
          "base_uri": "https://localhost:8080/"
        },
        "id": "JgW679-wN_k0",
        "outputId": "1688a119-3cb9-47dc-f43d-136d85a453cf"
      },
      "execution_count": 114,
      "outputs": [
        {
          "output_type": "execute_result",
          "data": {
            "text/plain": [
              "{'query': 'Combien de profils sont proposées dans la proposition financière ?',\n",
              " 'result': ' Aucun.'}"
            ]
          },
          "metadata": {},
          "execution_count": 114
        }
      ]
    },
    {
      "cell_type": "code",
      "source": [
        "def chat_with_pdf():\n",
        "  while True:\n",
        "    query = input('Question: ')\n",
        "    if query == 'STOP':\n",
        "      break\n",
        "    result = qa({'query':query})\n",
        "    print(result['result'])"
      ],
      "metadata": {
        "id": "MpHcniiSObMB"
      },
      "execution_count": null,
      "outputs": []
    },
    {
      "cell_type": "code",
      "source": [
        "chat_with_pdf()"
      ],
      "metadata": {
        "colab": {
          "base_uri": "https://localhost:8080/",
          "height": 429
        },
        "id": "IV8PSPy6Oska",
        "outputId": "03f85004-85ed-4651-e159-7de498c66ded"
      },
      "execution_count": null,
      "outputs": [
        {
          "output_type": "stream",
          "name": "stdout",
          "text": [
            "Question: de quoi parle le rapport ?\n",
            " Ce rapport traite des avantages et des questions soulevés par l'intelligence artificielle, notamment l'emploi, la confidentialité des données, la vie privée, la violation des valeurs éthiques et la confiance dans les résultats. Il aborde également le potentiel de l'IA pour améliorer les systèmes de santé et de soins.\n",
            "Question: comment l'IA peut-elle améliorer les systèmes de santé\n",
            " L'IA peut améliorer les systèmes de santé en fournissant des outils pour le traitement et la modélisation de données et de processus complexes, en évaluant d'énormes quantités de publications de recherche, en repérant les corrélations improbables et faibles dans d'énormes ensembles de données, en analysant les images et autres données produites par les systèmes de santé et en développant de nouvelles technologies.\n"
          ]
        },
        {
          "output_type": "error",
          "ename": "KeyboardInterrupt",
          "evalue": "ignored",
          "traceback": [
            "\u001b[0;31m---------------------------------------------------------------------------\u001b[0m",
            "\u001b[0;31mKeyboardInterrupt\u001b[0m                         Traceback (most recent call last)",
            "\u001b[0;32m<ipython-input-43-ad5a33b96de4>\u001b[0m in \u001b[0;36m<cell line: 1>\u001b[0;34m()\u001b[0m\n\u001b[0;32m----> 1\u001b[0;31m \u001b[0mchat_with_pdf\u001b[0m\u001b[0;34m(\u001b[0m\u001b[0;34m)\u001b[0m\u001b[0;34m\u001b[0m\u001b[0;34m\u001b[0m\u001b[0m\n\u001b[0m",
            "\u001b[0;32m<ipython-input-42-7dcbdc44c4fc>\u001b[0m in \u001b[0;36mchat_with_pdf\u001b[0;34m()\u001b[0m\n\u001b[1;32m      1\u001b[0m \u001b[0;32mdef\u001b[0m \u001b[0mchat_with_pdf\u001b[0m\u001b[0;34m(\u001b[0m\u001b[0;34m)\u001b[0m\u001b[0;34m:\u001b[0m\u001b[0;34m\u001b[0m\u001b[0;34m\u001b[0m\u001b[0m\n\u001b[1;32m      2\u001b[0m   \u001b[0;32mwhile\u001b[0m \u001b[0;32mTrue\u001b[0m\u001b[0;34m:\u001b[0m\u001b[0;34m\u001b[0m\u001b[0;34m\u001b[0m\u001b[0m\n\u001b[0;32m----> 3\u001b[0;31m     \u001b[0mquery\u001b[0m \u001b[0;34m=\u001b[0m \u001b[0minput\u001b[0m\u001b[0;34m(\u001b[0m\u001b[0;34m'Question: '\u001b[0m\u001b[0;34m)\u001b[0m\u001b[0;34m\u001b[0m\u001b[0;34m\u001b[0m\u001b[0m\n\u001b[0m\u001b[1;32m      4\u001b[0m     \u001b[0;32mif\u001b[0m \u001b[0mquery\u001b[0m \u001b[0;34m==\u001b[0m \u001b[0;34m'STOP'\u001b[0m\u001b[0;34m:\u001b[0m\u001b[0;34m\u001b[0m\u001b[0;34m\u001b[0m\u001b[0m\n\u001b[1;32m      5\u001b[0m       \u001b[0;32mbreak\u001b[0m\u001b[0;34m\u001b[0m\u001b[0;34m\u001b[0m\u001b[0m\n",
            "\u001b[0;32m/usr/local/lib/python3.10/dist-packages/ipykernel/kernelbase.py\u001b[0m in \u001b[0;36mraw_input\u001b[0;34m(self, prompt)\u001b[0m\n\u001b[1;32m    849\u001b[0m                 \u001b[0;34m\"raw_input was called, but this frontend does not support input requests.\"\u001b[0m\u001b[0;34m\u001b[0m\u001b[0;34m\u001b[0m\u001b[0m\n\u001b[1;32m    850\u001b[0m             )\n\u001b[0;32m--> 851\u001b[0;31m         return self._input_request(str(prompt),\n\u001b[0m\u001b[1;32m    852\u001b[0m             \u001b[0mself\u001b[0m\u001b[0;34m.\u001b[0m\u001b[0m_parent_ident\u001b[0m\u001b[0;34m,\u001b[0m\u001b[0;34m\u001b[0m\u001b[0;34m\u001b[0m\u001b[0m\n\u001b[1;32m    853\u001b[0m             \u001b[0mself\u001b[0m\u001b[0;34m.\u001b[0m\u001b[0m_parent_header\u001b[0m\u001b[0;34m,\u001b[0m\u001b[0;34m\u001b[0m\u001b[0;34m\u001b[0m\u001b[0m\n",
            "\u001b[0;32m/usr/local/lib/python3.10/dist-packages/ipykernel/kernelbase.py\u001b[0m in \u001b[0;36m_input_request\u001b[0;34m(self, prompt, ident, parent, password)\u001b[0m\n\u001b[1;32m    893\u001b[0m             \u001b[0;32mexcept\u001b[0m \u001b[0mKeyboardInterrupt\u001b[0m\u001b[0;34m:\u001b[0m\u001b[0;34m\u001b[0m\u001b[0;34m\u001b[0m\u001b[0m\n\u001b[1;32m    894\u001b[0m                 \u001b[0;31m# re-raise KeyboardInterrupt, to truncate traceback\u001b[0m\u001b[0;34m\u001b[0m\u001b[0;34m\u001b[0m\u001b[0m\n\u001b[0;32m--> 895\u001b[0;31m                 \u001b[0;32mraise\u001b[0m \u001b[0mKeyboardInterrupt\u001b[0m\u001b[0;34m(\u001b[0m\u001b[0;34m\"Interrupted by user\"\u001b[0m\u001b[0;34m)\u001b[0m \u001b[0;32mfrom\u001b[0m \u001b[0;32mNone\u001b[0m\u001b[0;34m\u001b[0m\u001b[0;34m\u001b[0m\u001b[0m\n\u001b[0m\u001b[1;32m    896\u001b[0m             \u001b[0;32mexcept\u001b[0m \u001b[0mException\u001b[0m \u001b[0;32mas\u001b[0m \u001b[0me\u001b[0m\u001b[0;34m:\u001b[0m\u001b[0;34m\u001b[0m\u001b[0;34m\u001b[0m\u001b[0m\n\u001b[1;32m    897\u001b[0m                 \u001b[0mself\u001b[0m\u001b[0;34m.\u001b[0m\u001b[0mlog\u001b[0m\u001b[0;34m.\u001b[0m\u001b[0mwarning\u001b[0m\u001b[0;34m(\u001b[0m\u001b[0;34m\"Invalid Message:\"\u001b[0m\u001b[0;34m,\u001b[0m \u001b[0mexc_info\u001b[0m\u001b[0;34m=\u001b[0m\u001b[0;32mTrue\u001b[0m\u001b[0;34m)\u001b[0m\u001b[0;34m\u001b[0m\u001b[0;34m\u001b[0m\u001b[0m\n",
            "\u001b[0;31mKeyboardInterrupt\u001b[0m: Interrupted by user"
          ]
        }
      ]
    },
    {
      "cell_type": "code",
      "source": [],
      "metadata": {
        "id": "-hmzQY36OtfQ"
      },
      "execution_count": null,
      "outputs": []
    }
  ]
}